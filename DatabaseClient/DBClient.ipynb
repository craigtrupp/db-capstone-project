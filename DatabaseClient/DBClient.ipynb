{
 "cells": [
  {
   "cell_type": "markdown",
   "id": "4a80cb07",
   "metadata": {},
   "source": [
    "### **Task 1 - Create Connection Instace to Particular Database**"
   ]
  },
  {
   "cell_type": "code",
   "execution_count": 5,
   "id": "d9fb05f4",
   "metadata": {},
   "outputs": [
    {
     "name": "stdout",
     "output_type": "stream",
     "text": [
      "Connection established!\n"
     ]
    }
   ],
   "source": [
    "import mysql.connector as connector\n",
    "\n",
    "try:\n",
    "    connection=connector.connect(user=\"root\", password=\"\", db='LittleLemonDB')\n",
    "    print('Connection established!')\n",
    "except connector.Error as e:\n",
    "    print(f\"\"\"\n",
    "    Error code : {e.errno}|\n",
    "    Error message : {e.msg}\n",
    "    \"\"\")"
   ]
  },
  {
   "cell_type": "code",
   "execution_count": 6,
   "id": "22f486e5",
   "metadata": {},
   "outputs": [],
   "source": [
    "# Create Cursor\n",
    "cursor = connection.cursor()"
   ]
  },
  {
   "cell_type": "markdown",
   "id": "f7eb789b",
   "metadata": {},
   "source": [
    "### **Task 2 - Query DB To Show All Tables**"
   ]
  },
  {
   "cell_type": "code",
   "execution_count": 7,
   "id": "5a9fabd7",
   "metadata": {},
   "outputs": [],
   "source": [
    "cursor.execute('SHOW TABLES;')"
   ]
  },
  {
   "cell_type": "code",
   "execution_count": 8,
   "id": "afbbef17",
   "metadata": {},
   "outputs": [
    {
     "name": "stdout",
     "output_type": "stream",
     "text": [
      "Table : Bookings, within Database : littlelemondb\n",
      "Table : Customers, within Database : littlelemondb\n",
      "Table : Delivery, within Database : littlelemondb\n",
      "Table : Menu, within Database : littlelemondb\n",
      "Table : MenuItems, within Database : littlelemondb\n",
      "Table : Orders, within Database : littlelemondb\n",
      "Table : Staff, within Database : littlelemondb\n"
     ]
    }
   ],
   "source": [
    "for table in cursor.fetchall():\n",
    "    print(f'Table : {table[0]}, within Database : {connection.database}')"
   ]
  },
  {
   "cell_type": "markdown",
   "id": "caf57796",
   "metadata": {},
   "source": [
    "### **Task 3 - Query w/Table Join**\n",
    "* Tasks asks for the customer contact details and the billamount for orders > 60."
   ]
  },
  {
   "cell_type": "code",
   "execution_count": 10,
   "id": "4ec08583",
   "metadata": {},
   "outputs": [
    {
     "name": "stdout",
     "output_type": "stream",
     "text": [
      "Below are Customer Orders Exceeding 60 Dollars Ordered by \"The Highest Order Amount\"\n",
      "Customer : Darth Mauls, reachable at : drth_rsaber@sithlord.com with a total Order Value of : 295.75!\n",
      "Customer : Harvey Dines, reachable at : harvey_dines@hotmail.com with a total Order Value of : 237.45!\n",
      "Customer : Harvey Dines, reachable at : harvey_dines@hotmail.com with a total Order Value of : 168.74!\n",
      "Customer : Darth Mauls, reachable at : drth_rsaber@sithlord.com with a total Order Value of : 115.15!\n",
      "Customer : Steven Salomi, reachable at : st_meats@gabagool.com with a total Order Value of : 69.35!\n"
     ]
    }
   ],
   "source": [
    "sql_join_query = '''\n",
    "SELECT \n",
    "    C.CustomerName, C.CustomerEmail, O.OrderBillAmount\n",
    "FROM Customers AS C\n",
    "INNER JOIN Orders AS O\n",
    "    ON C.CustomerID = O.OrderingCustomerID\n",
    "WHERE O.OrderBillAmount > 60\n",
    " ORDER BY O.OrderBillAmount DESC;\n",
    "'''\n",
    "print('Below are Customer Orders Exceeding 60 Dollars Ordered by \"The Highest Order Amount\"')\n",
    "# Execute Query\n",
    "cursor.execute(sql_join_query)\n",
    "# Iterate througher\n",
    "for order_60 in cursor.fetchall():\n",
    "    print(f'Customer : {order_60[0]}, reachable at : {order_60[1]} with a total Order Value of : {order_60[2]}!')"
   ]
  }
 ],
 "metadata": {
  "kernelspec": {
   "display_name": "Python 3 (ipykernel)",
   "language": "python",
   "name": "python3"
  },
  "language_info": {
   "codemirror_mode": {
    "name": "ipython",
    "version": 3
   },
   "file_extension": ".py",
   "mimetype": "text/x-python",
   "name": "python",
   "nbconvert_exporter": "python",
   "pygments_lexer": "ipython3",
   "version": "3.9.12"
  }
 },
 "nbformat": 4,
 "nbformat_minor": 5
}
